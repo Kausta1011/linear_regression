{
 "cells": [
  {
   "cell_type": "code",
   "execution_count": 1,
   "id": "69d1f0cd-927a-4bcc-b48e-a974fdf15e73",
   "metadata": {},
   "outputs": [],
   "source": [
    "import numpy as np"
   ]
  },
  {
   "cell_type": "code",
   "execution_count": 9,
   "id": "b8cb6986-c08d-4b4d-9225-d9c6f9c4aefb",
   "metadata": {},
   "outputs": [
    {
     "name": "stdout",
     "output_type": "stream",
     "text": [
      "[2 4 6]\n"
     ]
    }
   ],
   "source": [
    "a = np.array([1,2,3])\n",
    "b = np.array([2])\n",
    "print(a*b)"
   ]
  },
  {
   "cell_type": "code",
   "execution_count": 14,
   "id": "981d93ad-94fc-4e55-a550-2edf2aa7ea9a",
   "metadata": {},
   "outputs": [
    {
     "name": "stdout",
     "output_type": "stream",
     "text": [
      "a: [0. 0. 0. 0.], a.shape = (4,)\n"
     ]
    }
   ],
   "source": [
    "#Numpy Shapes\n",
    "a = np.zeros(4)\n",
    "print(f\"a: {a}, a.shape = {a.shape}\")"
   ]
  },
  {
   "cell_type": "code",
   "execution_count": 24,
   "id": "8df0d072-6732-497e-a9b0-31de3fb100c2",
   "metadata": {},
   "outputs": [
    {
     "name": "stdout",
     "output_type": "stream",
     "text": [
      "b1:[1 2 3 4], b1.shape:(4,)\n",
      "b2: [[1 2 3 4]\n",
      " [5 6 7 8]], b2.shape = (2, 4)\n"
     ]
    }
   ],
   "source": [
    "b1 = np.array([1,2,3,4])\n",
    "print(f\"b1:{b1}, b1.shape:{b1.shape}\")\n",
    "b2 = np.array([[1,2,3,4],[5,6,7,8]])\n",
    "print(f\"b2: {b2}, b2.shape = {b2.shape}\")"
   ]
  },
  {
   "cell_type": "code",
   "execution_count": 42,
   "id": "1bebe1c3-94e7-483f-8a8b-5fd9aeebedcc",
   "metadata": {},
   "outputs": [
    {
     "name": "stdout",
     "output_type": "stream",
     "text": [
      "[0 1 2 3 4]\n",
      "[0.13720665 0.62850816 0.61948319 0.75766823 0.87829281]\n"
     ]
    }
   ],
   "source": [
    "c1 = np.arange(5)\n",
    "print(c)\n",
    "c2 = np.random.rand(5)\n",
    "print(c2)"
   ]
  },
  {
   "cell_type": "markdown",
   "id": "46e64605-4779-4088-be03-1bc183c3da5c",
   "metadata": {},
   "source": [
    "<h3>Reshape is used to change the dimension of an array. '-1' often says to calculate the number of rows given the number of columns and value/number of elements"
   ]
  },
  {
   "cell_type": "code",
   "execution_count": 44,
   "id": "656153c6-ab8d-4116-a1b9-0192c9ede9ed",
   "metadata": {},
   "outputs": [
    {
     "name": "stdout",
     "output_type": "stream",
     "text": [
      "[[0 1]\n",
      " [2 3]\n",
      " [4 5]]\n"
     ]
    }
   ],
   "source": [
    "a = np.arange(6).reshape(-1,2)\n",
    "print(a)"
   ]
  },
  {
   "cell_type": "code",
   "execution_count": 47,
   "id": "1cd0e485-d5dd-40ad-83c1-8e6c84cd431d",
   "metadata": {},
   "outputs": [
    {
     "name": "stdout",
     "output_type": "stream",
     "text": [
      "[[0 1]\n",
      " [2 3]\n",
      " [4 5]]\n"
     ]
    }
   ],
   "source": [
    "b = np.arange(6).reshape(3,2)\n",
    "print(b)"
   ]
  },
  {
   "cell_type": "code",
   "execution_count": 50,
   "id": "c6a55692-f805-423c-9f21-804fdf4b3e81",
   "metadata": {},
   "outputs": [
    {
     "name": "stdout",
     "output_type": "stream",
     "text": [
      "[[0 1 2]\n",
      " [3 4 5]]\n"
     ]
    }
   ],
   "source": [
    "c = np.arange(6).reshape(-1,3)\n",
    "print(c)"
   ]
  },
  {
   "cell_type": "code",
   "execution_count": null,
   "id": "3500361f-1b4e-41b5-9493-f5b3377f9a33",
   "metadata": {},
   "outputs": [],
   "source": []
  }
 ],
 "metadata": {
  "kernelspec": {
   "display_name": "Python 3 (ipykernel)",
   "language": "python",
   "name": "python3"
  },
  "language_info": {
   "codemirror_mode": {
    "name": "ipython",
    "version": 3
   },
   "file_extension": ".py",
   "mimetype": "text/x-python",
   "name": "python",
   "nbconvert_exporter": "python",
   "pygments_lexer": "ipython3",
   "version": "3.13.1"
  }
 },
 "nbformat": 4,
 "nbformat_minor": 5
}
