{
 "cells": [
  {
   "cell_type": "code",
   "execution_count": 35,
   "id": "c30d0d69-60f8-4d9a-b153-535db7101a58",
   "metadata": {},
   "outputs": [],
   "source": [
    "import pandas as pd\n",
    "import numpy as np\n",
    "import matplotlib.pyplot as plt\n",
    "%matplotlib inline"
   ]
  },
  {
   "cell_type": "code",
   "execution_count": 36,
   "id": "91d805fc-a65e-4534-b484-ed01bb8af173",
   "metadata": {},
   "outputs": [],
   "source": [
    "df = pd.read_csv(\"USA Housing Dataset copy.csv\")"
   ]
  },
  {
   "cell_type": "code",
   "execution_count": 37,
   "id": "2c133575-f6da-4d20-96b3-63c618157d1d",
   "metadata": {},
   "outputs": [
    {
     "name": "stdout",
     "output_type": "stream",
     "text": [
      "<class 'pandas.core.frame.DataFrame'>\n",
      "RangeIndex: 4140 entries, 0 to 4139\n",
      "Data columns (total 18 columns):\n",
      " #   Column         Non-Null Count  Dtype  \n",
      "---  ------         --------------  -----  \n",
      " 0   date           4140 non-null   object \n",
      " 1   price          4140 non-null   float64\n",
      " 2   bedrooms       4140 non-null   float64\n",
      " 3   bathrooms      4140 non-null   float64\n",
      " 4   sqft_living    4140 non-null   int64  \n",
      " 5   sqft_lot       4140 non-null   int64  \n",
      " 6   floors         4140 non-null   float64\n",
      " 7   waterfront     4140 non-null   int64  \n",
      " 8   view           4140 non-null   int64  \n",
      " 9   condition      4140 non-null   int64  \n",
      " 10  sqft_above     4140 non-null   int64  \n",
      " 11  sqft_basement  4140 non-null   int64  \n",
      " 12  yr_built       4140 non-null   int64  \n",
      " 13  yr_renovated   4140 non-null   int64  \n",
      " 14  street         4140 non-null   object \n",
      " 15  city           4140 non-null   object \n",
      " 16  statezip       4140 non-null   object \n",
      " 17  country        4140 non-null   object \n",
      "dtypes: float64(4), int64(9), object(5)\n",
      "memory usage: 582.3+ KB\n"
     ]
    }
   ],
   "source": [
    "df.info()"
   ]
  },
  {
   "cell_type": "code",
   "execution_count": 38,
   "id": "9ec4232e-74cc-4876-9e49-fab42b309d24",
   "metadata": {},
   "outputs": [
    {
     "data": {
      "text/html": [
       "<div>\n",
       "<style scoped>\n",
       "    .dataframe tbody tr th:only-of-type {\n",
       "        vertical-align: middle;\n",
       "    }\n",
       "\n",
       "    .dataframe tbody tr th {\n",
       "        vertical-align: top;\n",
       "    }\n",
       "\n",
       "    .dataframe thead th {\n",
       "        text-align: right;\n",
       "    }\n",
       "</style>\n",
       "<table border=\"1\" class=\"dataframe\">\n",
       "  <thead>\n",
       "    <tr style=\"text-align: right;\">\n",
       "      <th></th>\n",
       "      <th>price</th>\n",
       "      <th>bedrooms</th>\n",
       "      <th>bathrooms</th>\n",
       "      <th>sqft_living</th>\n",
       "      <th>sqft_lot</th>\n",
       "      <th>floors</th>\n",
       "      <th>waterfront</th>\n",
       "      <th>view</th>\n",
       "      <th>condition</th>\n",
       "      <th>sqft_above</th>\n",
       "      <th>sqft_basement</th>\n",
       "      <th>yr_built</th>\n",
       "      <th>yr_renovated</th>\n",
       "    </tr>\n",
       "  </thead>\n",
       "  <tbody>\n",
       "    <tr>\n",
       "      <th>count</th>\n",
       "      <td>4.140000e+03</td>\n",
       "      <td>4140.000000</td>\n",
       "      <td>4140.000000</td>\n",
       "      <td>4140.000000</td>\n",
       "      <td>4.140000e+03</td>\n",
       "      <td>4140.000000</td>\n",
       "      <td>4140.000000</td>\n",
       "      <td>4140.000000</td>\n",
       "      <td>4140.000000</td>\n",
       "      <td>4140.000000</td>\n",
       "      <td>4140.000000</td>\n",
       "      <td>4140.000000</td>\n",
       "      <td>4140.000000</td>\n",
       "    </tr>\n",
       "    <tr>\n",
       "      <th>mean</th>\n",
       "      <td>5.530629e+05</td>\n",
       "      <td>3.400483</td>\n",
       "      <td>2.163043</td>\n",
       "      <td>2143.638889</td>\n",
       "      <td>1.469764e+04</td>\n",
       "      <td>1.514130</td>\n",
       "      <td>0.007488</td>\n",
       "      <td>0.246618</td>\n",
       "      <td>3.452415</td>\n",
       "      <td>1831.351449</td>\n",
       "      <td>312.287440</td>\n",
       "      <td>1970.814010</td>\n",
       "      <td>808.368357</td>\n",
       "    </tr>\n",
       "    <tr>\n",
       "      <th>std</th>\n",
       "      <td>5.836865e+05</td>\n",
       "      <td>0.903939</td>\n",
       "      <td>0.784733</td>\n",
       "      <td>957.481621</td>\n",
       "      <td>3.587684e+04</td>\n",
       "      <td>0.534941</td>\n",
       "      <td>0.086219</td>\n",
       "      <td>0.790619</td>\n",
       "      <td>0.678533</td>\n",
       "      <td>861.382947</td>\n",
       "      <td>464.349222</td>\n",
       "      <td>29.807941</td>\n",
       "      <td>979.380535</td>\n",
       "    </tr>\n",
       "    <tr>\n",
       "      <th>min</th>\n",
       "      <td>0.000000e+00</td>\n",
       "      <td>0.000000</td>\n",
       "      <td>0.000000</td>\n",
       "      <td>370.000000</td>\n",
       "      <td>6.380000e+02</td>\n",
       "      <td>1.000000</td>\n",
       "      <td>0.000000</td>\n",
       "      <td>0.000000</td>\n",
       "      <td>1.000000</td>\n",
       "      <td>370.000000</td>\n",
       "      <td>0.000000</td>\n",
       "      <td>1900.000000</td>\n",
       "      <td>0.000000</td>\n",
       "    </tr>\n",
       "    <tr>\n",
       "      <th>25%</th>\n",
       "      <td>3.200000e+05</td>\n",
       "      <td>3.000000</td>\n",
       "      <td>1.750000</td>\n",
       "      <td>1470.000000</td>\n",
       "      <td>5.000000e+03</td>\n",
       "      <td>1.000000</td>\n",
       "      <td>0.000000</td>\n",
       "      <td>0.000000</td>\n",
       "      <td>3.000000</td>\n",
       "      <td>1190.000000</td>\n",
       "      <td>0.000000</td>\n",
       "      <td>1951.000000</td>\n",
       "      <td>0.000000</td>\n",
       "    </tr>\n",
       "    <tr>\n",
       "      <th>50%</th>\n",
       "      <td>4.600000e+05</td>\n",
       "      <td>3.000000</td>\n",
       "      <td>2.250000</td>\n",
       "      <td>1980.000000</td>\n",
       "      <td>7.676000e+03</td>\n",
       "      <td>1.500000</td>\n",
       "      <td>0.000000</td>\n",
       "      <td>0.000000</td>\n",
       "      <td>3.000000</td>\n",
       "      <td>1600.000000</td>\n",
       "      <td>0.000000</td>\n",
       "      <td>1976.000000</td>\n",
       "      <td>0.000000</td>\n",
       "    </tr>\n",
       "    <tr>\n",
       "      <th>75%</th>\n",
       "      <td>6.591250e+05</td>\n",
       "      <td>4.000000</td>\n",
       "      <td>2.500000</td>\n",
       "      <td>2620.000000</td>\n",
       "      <td>1.100000e+04</td>\n",
       "      <td>2.000000</td>\n",
       "      <td>0.000000</td>\n",
       "      <td>0.000000</td>\n",
       "      <td>4.000000</td>\n",
       "      <td>2310.000000</td>\n",
       "      <td>602.500000</td>\n",
       "      <td>1997.000000</td>\n",
       "      <td>1999.000000</td>\n",
       "    </tr>\n",
       "    <tr>\n",
       "      <th>max</th>\n",
       "      <td>2.659000e+07</td>\n",
       "      <td>8.000000</td>\n",
       "      <td>6.750000</td>\n",
       "      <td>10040.000000</td>\n",
       "      <td>1.074218e+06</td>\n",
       "      <td>3.500000</td>\n",
       "      <td>1.000000</td>\n",
       "      <td>4.000000</td>\n",
       "      <td>5.000000</td>\n",
       "      <td>8020.000000</td>\n",
       "      <td>4820.000000</td>\n",
       "      <td>2014.000000</td>\n",
       "      <td>2014.000000</td>\n",
       "    </tr>\n",
       "  </tbody>\n",
       "</table>\n",
       "</div>"
      ],
      "text/plain": [
       "              price     bedrooms    bathrooms   sqft_living      sqft_lot  \\\n",
       "count  4.140000e+03  4140.000000  4140.000000   4140.000000  4.140000e+03   \n",
       "mean   5.530629e+05     3.400483     2.163043   2143.638889  1.469764e+04   \n",
       "std    5.836865e+05     0.903939     0.784733    957.481621  3.587684e+04   \n",
       "min    0.000000e+00     0.000000     0.000000    370.000000  6.380000e+02   \n",
       "25%    3.200000e+05     3.000000     1.750000   1470.000000  5.000000e+03   \n",
       "50%    4.600000e+05     3.000000     2.250000   1980.000000  7.676000e+03   \n",
       "75%    6.591250e+05     4.000000     2.500000   2620.000000  1.100000e+04   \n",
       "max    2.659000e+07     8.000000     6.750000  10040.000000  1.074218e+06   \n",
       "\n",
       "            floors   waterfront         view    condition   sqft_above  \\\n",
       "count  4140.000000  4140.000000  4140.000000  4140.000000  4140.000000   \n",
       "mean      1.514130     0.007488     0.246618     3.452415  1831.351449   \n",
       "std       0.534941     0.086219     0.790619     0.678533   861.382947   \n",
       "min       1.000000     0.000000     0.000000     1.000000   370.000000   \n",
       "25%       1.000000     0.000000     0.000000     3.000000  1190.000000   \n",
       "50%       1.500000     0.000000     0.000000     3.000000  1600.000000   \n",
       "75%       2.000000     0.000000     0.000000     4.000000  2310.000000   \n",
       "max       3.500000     1.000000     4.000000     5.000000  8020.000000   \n",
       "\n",
       "       sqft_basement     yr_built  yr_renovated  \n",
       "count    4140.000000  4140.000000   4140.000000  \n",
       "mean      312.287440  1970.814010    808.368357  \n",
       "std       464.349222    29.807941    979.380535  \n",
       "min         0.000000  1900.000000      0.000000  \n",
       "25%         0.000000  1951.000000      0.000000  \n",
       "50%         0.000000  1976.000000      0.000000  \n",
       "75%       602.500000  1997.000000   1999.000000  \n",
       "max      4820.000000  2014.000000   2014.000000  "
      ]
     },
     "execution_count": 38,
     "metadata": {},
     "output_type": "execute_result"
    }
   ],
   "source": [
    "df.describe()"
   ]
  },
  {
   "cell_type": "markdown",
   "id": "4927f88d-a29c-4964-9543-655682b6e257",
   "metadata": {},
   "source": [
    "<h2>DIVIDING BY MAXIMUM</h2>In this we will take the elements of a particular column and then divide it by the max value in that column. This way, our data will range between 0 to 1. "
   ]
  },
  {
   "cell_type": "code",
   "execution_count": 39,
   "id": "2c50e043-1cdb-497a-bdb3-aaad4fe19b15",
   "metadata": {},
   "outputs": [
    {
     "data": {
      "text/plain": [
       "count     4140.000000\n",
       "mean      2143.638889\n",
       "std        957.481621\n",
       "min        370.000000\n",
       "25%       1470.000000\n",
       "50%       1980.000000\n",
       "75%       2620.000000\n",
       "max      10040.000000\n",
       "Name: sqft_living, dtype: float64"
      ]
     },
     "execution_count": 39,
     "metadata": {},
     "output_type": "execute_result"
    }
   ],
   "source": [
    "sqft_living = df[\"sqft_living\"].astype(float)\n",
    "sqft_living.describe()"
   ]
  },
  {
   "cell_type": "code",
   "execution_count": 40,
   "id": "fa555fac-2b80-49e4-8a66-6cc1d0cf991b",
   "metadata": {},
   "outputs": [
    {
     "name": "stdout",
     "output_type": "stream",
     "text": [
      "Minimum value is 370.0 and maximum value is 10040.0\n"
     ]
    }
   ],
   "source": [
    "minimum = min(sqft_living)\n",
    "maximum = max(sqft_living)\n",
    "print(f\"Minimum value is {minimum} and maximum value is {maximum}\")"
   ]
  },
  {
   "cell_type": "code",
   "execution_count": 41,
   "id": "efd25a70-ae1b-4f9b-883f-2686e305e468",
   "metadata": {},
   "outputs": [
    {
     "name": "stdout",
     "output_type": "stream",
     "text": [
      "Our data ranges from 0.036852589641434265 to 1.0\n"
     ]
    }
   ],
   "source": [
    "#Range of our data:\n",
    "lower = minimum/maximum\n",
    "upper = maximum/maximum\n",
    "print(f\"Our data ranges from {lower} to {upper}\")"
   ]
  },
  {
   "cell_type": "code",
   "execution_count": 43,
   "id": "748b1f0e-6a83-4cc7-8151-0fb38b376b74",
   "metadata": {},
   "outputs": [],
   "source": [
    "sqft_living = sqft_living/sqft_living.max()"
   ]
  },
  {
   "cell_type": "code",
   "execution_count": 44,
   "id": "26f005d1-3fad-496b-ba0a-24f55fc446c7",
   "metadata": {
    "scrolled": true
   },
   "outputs": [
    {
     "data": {
      "text/plain": [
       "count    4140.000000\n",
       "mean        0.213510\n",
       "std         0.095367\n",
       "min         0.036853\n",
       "25%         0.146414\n",
       "50%         0.197211\n",
       "75%         0.260956\n",
       "max         1.000000\n",
       "Name: sqft_living, dtype: float64"
      ]
     },
     "execution_count": 44,
     "metadata": {},
     "output_type": "execute_result"
    }
   ],
   "source": [
    "sqft_living.describe()"
   ]
  },
  {
   "cell_type": "code",
   "execution_count": null,
   "id": "921dcfb6-8bde-4974-b5e4-9e2cd9a9352e",
   "metadata": {},
   "outputs": [],
   "source": []
  },
  {
   "cell_type": "markdown",
   "id": "974830ec-3592-4772-86bb-6ca4cfcbb48c",
   "metadata": {},
   "source": [
    "<h2>MEAN NORMALIZATION</h2> We use µ in this technique. x1 = x1-µ/max-min"
   ]
  },
  {
   "cell_type": "code",
   "execution_count": 45,
   "id": "cdf068f1-2819-43e2-9f9e-fdba7d028689",
   "metadata": {},
   "outputs": [],
   "source": [
    "sqft_lot = df['sqft_lot'].astype(float)"
   ]
  },
  {
   "cell_type": "code",
   "execution_count": 46,
   "id": "e3c43657-19c4-4e8e-bc58-cb2f93392c6e",
   "metadata": {},
   "outputs": [
    {
     "data": {
      "text/plain": [
       "count    4.140000e+03\n",
       "mean     1.469764e+04\n",
       "std      3.587684e+04\n",
       "min      6.380000e+02\n",
       "25%      5.000000e+03\n",
       "50%      7.676000e+03\n",
       "75%      1.100000e+04\n",
       "max      1.074218e+06\n",
       "Name: sqft_lot, dtype: float64"
      ]
     },
     "execution_count": 46,
     "metadata": {},
     "output_type": "execute_result"
    }
   ],
   "source": [
    "sqft_lot.describe()"
   ]
  },
  {
   "cell_type": "code",
   "execution_count": 51,
   "id": "1b3ba1c7-970d-4cee-bd1b-79edf90b553f",
   "metadata": {},
   "outputs": [
    {
     "data": {
      "text/plain": [
       "np.float64(14697.638164251208)"
      ]
     },
     "execution_count": 51,
     "metadata": {},
     "output_type": "execute_result"
    }
   ],
   "source": [
    "mu = sqft_lot.mean()\n",
    "mu"
   ]
  },
  {
   "cell_type": "code",
   "execution_count": 53,
   "id": "530ba9af-a813-4491-a1af-2df391159a03",
   "metadata": {},
   "outputs": [],
   "source": [
    "for i in range(len(sqft_lot)):\n",
    "    sqft_lot[i] = (sqft_lot[i] - mu)/(sqft_lot.max() - sqft_lot.min())"
   ]
  },
  {
   "cell_type": "code",
   "execution_count": 54,
   "id": "4511b216-95fa-4108-95e9-fe2e75e3253e",
   "metadata": {},
   "outputs": [
    {
     "data": {
      "text/plain": [
       "count    4140.000000\n",
       "mean       -0.006375\n",
       "std         0.101583\n",
       "min        -1.246146\n",
       "25%        -0.019845\n",
       "50%        -0.012334\n",
       "75%        -0.005973\n",
       "max         0.986318\n",
       "Name: sqft_lot, dtype: float64"
      ]
     },
     "execution_count": 54,
     "metadata": {},
     "output_type": "execute_result"
    }
   ],
   "source": [
    "sqft_lot.describe()"
   ]
  },
  {
   "cell_type": "markdown",
   "id": "b2e16947-8029-44f8-b59a-bc02c0ff0232",
   "metadata": {},
   "source": [
    "<h2>Z-SCORE NORMALIZATION</h2> Over here we use standard deviation. x1 = x1-µ1/σ"
   ]
  },
  {
   "cell_type": "code",
   "execution_count": 55,
   "id": "e64acd19-2b88-4a63-b25b-7f19e0562873",
   "metadata": {},
   "outputs": [],
   "source": [
    "sqft_above = df['sqft_above'].astype(float)"
   ]
  },
  {
   "cell_type": "code",
   "execution_count": 57,
   "id": "5b7faf16-e870-43a7-92ab-6197b26dc428",
   "metadata": {},
   "outputs": [
    {
     "data": {
      "text/plain": [
       "count    4140.000000\n",
       "mean     1831.351449\n",
       "std       861.382947\n",
       "min       370.000000\n",
       "25%      1190.000000\n",
       "50%      1600.000000\n",
       "75%      2310.000000\n",
       "max      8020.000000\n",
       "Name: sqft_above, dtype: float64"
      ]
     },
     "execution_count": 57,
     "metadata": {},
     "output_type": "execute_result"
    }
   ],
   "source": [
    "sqft_above.describe()"
   ]
  },
  {
   "cell_type": "code",
   "execution_count": 60,
   "id": "07f26c73-1fea-46db-b0c4-99a7a4905740",
   "metadata": {},
   "outputs": [
    {
     "name": "stdout",
     "output_type": "stream",
     "text": [
      "standard deviation:861.3829469017647, mean:1831.3514492753623\n"
     ]
    }
   ],
   "source": [
    "sigma = sqft_above.std()\n",
    "mu = sqft_above.mean()\n",
    "print(f\"standard deviation:{sigma}, mean:{mu}\")"
   ]
  },
  {
   "cell_type": "code",
   "execution_count": 61,
   "id": "cfe1c219-e1d0-4dc6-857f-de0a43dea923",
   "metadata": {},
   "outputs": [],
   "source": [
    "for i in range(len(sqft_above)):\n",
    "    sqft_above[i] = (sqft_above[i]-mu)/sigma"
   ]
  },
  {
   "cell_type": "code",
   "execution_count": 62,
   "id": "001a5d06-a983-487e-ab5e-65f8672e5743",
   "metadata": {},
   "outputs": [
    {
     "data": {
      "text/plain": [
       "count    4.140000e+03\n",
       "mean     7.894919e-17\n",
       "std      1.000000e+00\n",
       "min     -1.696518e+00\n",
       "25%     -7.445602e-01\n",
       "50%     -2.685814e-01\n",
       "75%      5.556745e-01\n",
       "max      7.184550e+00\n",
       "Name: sqft_above, dtype: float64"
      ]
     },
     "execution_count": 62,
     "metadata": {},
     "output_type": "execute_result"
    }
   ],
   "source": [
    "sqft_above.describe()"
   ]
  },
  {
   "cell_type": "code",
   "execution_count": null,
   "id": "b6acc0cf-c999-46c4-bbea-59afb871617c",
   "metadata": {},
   "outputs": [],
   "source": []
  }
 ],
 "metadata": {
  "kernelspec": {
   "display_name": "Python 3 (ipykernel)",
   "language": "python",
   "name": "python3"
  },
  "language_info": {
   "codemirror_mode": {
    "name": "ipython",
    "version": 3
   },
   "file_extension": ".py",
   "mimetype": "text/x-python",
   "name": "python",
   "nbconvert_exporter": "python",
   "pygments_lexer": "ipython3",
   "version": "3.13.1"
  }
 },
 "nbformat": 4,
 "nbformat_minor": 5
}
